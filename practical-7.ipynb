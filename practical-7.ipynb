{
 "cells": [
  {
   "cell_type": "markdown",
   "id": "2084234c",
   "metadata": {
    "papermill": {
     "duration": 0.003571,
     "end_time": "2023-10-10T18:11:37.493577",
     "exception": false,
     "start_time": "2023-10-10T18:11:37.490006",
     "status": "completed"
    },
    "tags": []
   },
   "source": [
    "# Practical-7"
   ]
  },
  {
   "cell_type": "markdown",
   "id": "15a3efb1",
   "metadata": {
    "papermill": {
     "duration": 0.004423,
     "end_time": "2023-10-10T18:11:37.501220",
     "exception": false,
     "start_time": "2023-10-10T18:11:37.496797",
     "status": "completed"
    },
    "tags": []
   },
   "source": [
    "**Write a Pandas program to implement following operation**"
   ]
  },
  {
   "cell_type": "markdown",
   "id": "54b4e376",
   "metadata": {
    "papermill": {
     "duration": 0.002265,
     "end_time": "2023-10-10T18:11:37.506530",
     "exception": false,
     "start_time": "2023-10-10T18:11:37.504265",
     "status": "completed"
    },
    "tags": []
   },
   "source": [
    "* to create a dataframe from a dictionary and display it"
   ]
  },
  {
   "cell_type": "code",
   "execution_count": 1,
   "id": "1ebb0bfc",
   "metadata": {
    "_cell_guid": "b1076dfc-b9ad-4769-8c92-a6c4dae69d19",
    "_uuid": "8f2839f25d086af736a60e9eeb907d3b93b6e0e5",
    "execution": {
     "iopub.execute_input": "2023-10-10T18:11:37.514134Z",
     "iopub.status.busy": "2023-10-10T18:11:37.513328Z",
     "iopub.status.idle": "2023-10-10T18:11:37.925799Z",
     "shell.execute_reply": "2023-10-10T18:11:37.924348Z"
    },
    "papermill": {
     "duration": 0.419237,
     "end_time": "2023-10-10T18:11:37.928276",
     "exception": false,
     "start_time": "2023-10-10T18:11:37.509039",
     "status": "completed"
    },
    "tags": []
   },
   "outputs": [
    {
     "name": "stdout",
     "output_type": "stream",
     "text": [
      "{'Name': ['Siddiq', 'Sami', 'Mujtaba', 'Arshil'], 'Age': [18, 19, 17, 17], 'Department': ['Computer', 'Civil', 'Civil', 'Civil']}\n",
      "\n",
      "      Name  Age Department\n",
      "0   Siddiq   18   Computer\n",
      "1     Sami   19      Civil\n",
      "2  Mujtaba   17      Civil\n",
      "3   Arshil   17      Civil\n"
     ]
    }
   ],
   "source": [
    "# Siddiq Badlani\n",
    "# 216270307034\n",
    "import pandas as pd\n",
    "\n",
    "dict = {\n",
    "    \"Name\": [\"Siddiq\", \"Sami\", \"Mujtaba\", \"Arshil\"],\n",
    "    \"Age\":  [18, 19, 17, 17],\n",
    "    \"Department\": [\"Computer\", \"Civil\", \"Civil\", \"Civil\"]\n",
    "}\n",
    "print(dict)\n",
    "print()\n",
    "df = pd.DataFrame(dict)\n",
    "print(df)"
   ]
  },
  {
   "cell_type": "markdown",
   "id": "af53599e",
   "metadata": {
    "papermill": {
     "duration": 0.002502,
     "end_time": "2023-10-10T18:11:37.933709",
     "exception": false,
     "start_time": "2023-10-10T18:11:37.931207",
     "status": "completed"
    },
    "tags": []
   },
   "source": [
    "* to sort the DataFrame first by 'name' in ascending order"
   ]
  },
  {
   "cell_type": "code",
   "execution_count": 2,
   "id": "cb500860",
   "metadata": {
    "execution": {
     "iopub.execute_input": "2023-10-10T18:11:37.940855Z",
     "iopub.status.busy": "2023-10-10T18:11:37.940341Z",
     "iopub.status.idle": "2023-10-10T18:11:37.961627Z",
     "shell.execute_reply": "2023-10-10T18:11:37.960096Z"
    },
    "papermill": {
     "duration": 0.028004,
     "end_time": "2023-10-10T18:11:37.964452",
     "exception": false,
     "start_time": "2023-10-10T18:11:37.936448",
     "status": "completed"
    },
    "tags": []
   },
   "outputs": [
    {
     "name": "stdout",
     "output_type": "stream",
     "text": [
      "      Name  Age Department\n",
      "0   Siddiq   18   Computer\n",
      "1     Sami   19      Civil\n",
      "2  Mujtaba   17      Civil\n",
      "3   Arshil   17      Civil\n",
      "      Name  Age Department\n",
      "3   Arshil   17      Civil\n",
      "2  Mujtaba   17      Civil\n",
      "1     Sami   19      Civil\n",
      "0   Siddiq   18   Computer\n"
     ]
    }
   ],
   "source": [
    "import pandas as pd\n",
    "\n",
    "dict = {\n",
    "    \"Name\": [\"Siddiq\", \"Sami\", \"Mujtaba\", \"Arshil\"],\n",
    "    \"Age\":  [18, 19, 17, 17],\n",
    "    \"Department\": [\"Computer\", \"Civil\", \"Civil\", \"Civil\"]\n",
    "}\n",
    "df = pd.DataFrame(dict)\n",
    "print(df)\n",
    "\n",
    "sorted_df = df.sort_values(by=[\"Name\"])\n",
    "print(sorted_df)"
   ]
  },
  {
   "cell_type": "markdown",
   "id": "1fe6b920",
   "metadata": {
    "papermill": {
     "duration": 0.002586,
     "end_time": "2023-10-10T18:11:37.969985",
     "exception": false,
     "start_time": "2023-10-10T18:11:37.967399",
     "status": "completed"
    },
    "tags": []
   },
   "source": [
    "* to delete the one specific column from the DataFrame\n"
   ]
  },
  {
   "cell_type": "code",
   "execution_count": 3,
   "id": "ea6f8616",
   "metadata": {
    "execution": {
     "iopub.execute_input": "2023-10-10T18:11:37.977632Z",
     "iopub.status.busy": "2023-10-10T18:11:37.977265Z",
     "iopub.status.idle": "2023-10-10T18:11:37.993893Z",
     "shell.execute_reply": "2023-10-10T18:11:37.992567Z"
    },
    "papermill": {
     "duration": 0.023216,
     "end_time": "2023-10-10T18:11:37.996064",
     "exception": false,
     "start_time": "2023-10-10T18:11:37.972848",
     "status": "completed"
    },
    "tags": []
   },
   "outputs": [
    {
     "name": "stdout",
     "output_type": "stream",
     "text": [
      "      Name  Age Department\n",
      "0   Siddiq   18   Computer\n",
      "1     Sami   19      Civil\n",
      "2  Mujtaba   17      Civil\n",
      "3   Arshil   17      Civil\n",
      "      Name  Age\n",
      "0   Siddiq   18\n",
      "1     Sami   19\n",
      "2  Mujtaba   17\n",
      "3   Arshil   17\n"
     ]
    }
   ],
   "source": [
    "import pandas as pd\n",
    "\n",
    "dict = {\n",
    "    \"Name\": [\"Siddiq\", \"Sami\", \"Mujtaba\", \"Arshil\"],\n",
    "    \"Age\":  [18, 19, 17, 17],\n",
    "    \"Department\": [\"Computer\", \"Civil\", \"Civil\", \"Civil\"]\n",
    "}\n",
    "df = pd.DataFrame(dict)\n",
    "print(df)\n",
    "\n",
    "df = df.drop(['Department'], axis=1)\n",
    "print(df)"
   ]
  },
  {
   "cell_type": "markdown",
   "id": "81c3900c",
   "metadata": {
    "papermill": {
     "duration": 0.002637,
     "end_time": "2023-10-10T18:11:38.001568",
     "exception": false,
     "start_time": "2023-10-10T18:11:37.998931",
     "status": "completed"
    },
    "tags": []
   },
   "source": [
    "* to write a DataFrame to CSV file using tab separator"
   ]
  },
  {
   "cell_type": "code",
   "execution_count": 4,
   "id": "0703dde1",
   "metadata": {
    "execution": {
     "iopub.execute_input": "2023-10-10T18:11:38.010175Z",
     "iopub.status.busy": "2023-10-10T18:11:38.009782Z",
     "iopub.status.idle": "2023-10-10T18:11:38.029042Z",
     "shell.execute_reply": "2023-10-10T18:11:38.027881Z"
    },
    "papermill": {
     "duration": 0.026947,
     "end_time": "2023-10-10T18:11:38.031873",
     "exception": false,
     "start_time": "2023-10-10T18:11:38.004926",
     "status": "completed"
    },
    "tags": []
   },
   "outputs": [
    {
     "name": "stdout",
     "output_type": "stream",
     "text": [
      "Original DataFrame:\n",
      "       Name  Age Department\n",
      "0   Siddiq   18   Computer\n",
      "1     Sami   19      Civil\n",
      "2  Mujtaba   17      Civil\n",
      "3   Arshil   17      Civil\n",
      "Data from Friends.csv file:\n",
      "   Name\\tAge\\tDepartment\n",
      "0  Siddiq\\t18\\tComputer\n",
      "1       Sami\\t19\\tCivil\n",
      "2    Mujtaba\\t17\\tCivil\n",
      "3     Arshil\\t17\\tCivil\n"
     ]
    }
   ],
   "source": [
    "import pandas as pd\n",
    "# import os\n",
    "\n",
    "dict = {\n",
    "    \"Name\": [\"Siddiq\", \"Sami\", \"Mujtaba\", \"Arshil\"],\n",
    "    \"Age\":  [18, 19, 17, 17],\n",
    "    \"Department\": [\"Computer\", \"Civil\", \"Civil\", \"Civil\"]\n",
    "}\n",
    "df = pd.DataFrame(dict)\n",
    "print(\"Original DataFrame:\\n\" ,df)\n",
    "\n",
    "df.to_csv('Friends.csv', sep=\"\\t\", index=False)\n",
    "\n",
    "new = pd.read_csv('Friends.csv')\n",
    "print(\"Data from Friends.csv file:\\n\", new)\n",
    "\n",
    "# os.getcwd()"
   ]
  }
 ],
 "metadata": {
  "kernelspec": {
   "display_name": "Python 3",
   "language": "python",
   "name": "python3"
  },
  "language_info": {
   "codemirror_mode": {
    "name": "ipython",
    "version": 3
   },
   "file_extension": ".py",
   "mimetype": "text/x-python",
   "name": "python",
   "nbconvert_exporter": "python",
   "pygments_lexer": "ipython3",
   "version": "3.10.12"
  },
  "papermill": {
   "default_parameters": {},
   "duration": 4.60386,
   "end_time": "2023-10-10T18:11:38.556732",
   "environment_variables": {},
   "exception": null,
   "input_path": "__notebook__.ipynb",
   "output_path": "__notebook__.ipynb",
   "parameters": {},
   "start_time": "2023-10-10T18:11:33.952872",
   "version": "2.4.0"
  }
 },
 "nbformat": 4,
 "nbformat_minor": 5
}
