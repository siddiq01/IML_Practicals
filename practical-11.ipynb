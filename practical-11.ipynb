{
 "cells": [
  {
   "cell_type": "markdown",
   "id": "38566a80",
   "metadata": {
    "papermill": {
     "duration": 0.002569,
     "end_time": "2023-10-24T14:49:00.170878",
     "exception": false,
     "start_time": "2023-10-24T14:49:00.168309",
     "status": "completed"
    },
    "tags": []
   },
   "source": [
    "# Practical-11"
   ]
  },
  {
   "cell_type": "markdown",
   "id": "1e8cf887",
   "metadata": {
    "papermill": {
     "duration": 0.001733,
     "end_time": "2023-10-24T14:49:00.174962",
     "exception": false,
     "start_time": "2023-10-24T14:49:00.173229",
     "status": "completed"
    },
    "tags": []
   },
   "source": [
    "* Write a Pandas program to filter all columns where all entries present,\n",
    "check which rows and columns has a NaN and finally drop rows with any\n",
    "NaNs from the given dataset."
   ]
  },
  {
   "cell_type": "code",
   "execution_count": 1,
   "id": "72a83948",
   "metadata": {
    "_cell_guid": "b1076dfc-b9ad-4769-8c92-a6c4dae69d19",
    "_uuid": "8f2839f25d086af736a60e9eeb907d3b93b6e0e5",
    "execution": {
     "iopub.execute_input": "2023-10-24T14:49:00.182869Z",
     "iopub.status.busy": "2023-10-24T14:49:00.182476Z",
     "iopub.status.idle": "2023-10-24T14:49:00.652184Z",
     "shell.execute_reply": "2023-10-24T14:49:00.650950Z"
    },
    "papermill": {
     "duration": 0.478067,
     "end_time": "2023-10-24T14:49:00.655020",
     "exception": false,
     "start_time": "2023-10-24T14:49:00.176953",
     "status": "completed"
    },
    "tags": []
   },
   "outputs": [
    {
     "name": "stdout",
     "output_type": "stream",
     "text": [
      "Original DataFrame:\n",
      "     A       B     C\n",
      "0  1.0   apple  10.0\n",
      "1  2.0  banana  20.0\n",
      "2  NaN   apple  20.0\n",
      "3  3.0  cherry   NaN\n",
      "4  4.0  banana  40.0\n",
      "5  4.0  cherry  40.0\n",
      "\n",
      "Rows with NaN values:\n",
      "     A       B     C\n",
      "2  NaN   apple  20.0\n",
      "3  3.0  cherry   NaN\n",
      "\n",
      "Columns with NaN values:\n",
      "Index(['A', 'C'], dtype='object')\n",
      "\n",
      "DataFrame after removing columns with any NaN:\n",
      "        B\n",
      "0   apple\n",
      "1  banana\n",
      "2   apple\n",
      "3  cherry\n",
      "4  banana\n",
      "5  cherry\n",
      "\n",
      "DataFrame after removing rows with any NaN:\n",
      "     A       B     C\n",
      "0  1.0   apple  10.0\n",
      "1  2.0  banana  20.0\n",
      "4  4.0  banana  40.0\n",
      "5  4.0  cherry  40.0\n"
     ]
    }
   ],
   "source": [
    "# Siddiq Badlani\n",
    "# 216270307034\n",
    "\n",
    "import pandas as pd\n",
    "import numpy as np\n",
    "\n",
    "# Sample DataFrame with missing values\n",
    "data = {\n",
    "    'A': [1, 2, np.nan, 3, 4, 4],\n",
    "    'B': ['apple', 'banana', 'apple', 'cherry', 'banana', 'cherry'],\n",
    "    'C': [10, 20, 20, np.nan, 40, 40]\n",
    "}\n",
    "\n",
    "df = pd.DataFrame(data)\n",
    "print(\"Original DataFrame:\")\n",
    "print(df)\n",
    "print()\n",
    "\n",
    "# Check which rows and columns have NaN values\n",
    "rows_with_nan = df[df.isna().any(axis=1)]\n",
    "columns_with_nan = df.columns[df.isna().any()]\n",
    "\n",
    "print(\"Rows with NaN values:\")\n",
    "print(rows_with_nan)\n",
    "print()\n",
    "\n",
    "print(\"Columns with NaN values:\")\n",
    "print(columns_with_nan)\n",
    "print()\n",
    "\n",
    "# Drop columns with any NaN values\n",
    "df_no_missing_columns = df.dropna(axis=1, how='any')\n",
    "print(\"DataFrame after removing columns with any NaN:\")\n",
    "print(df_no_missing_columns)\n",
    "print()\n",
    "\n",
    "# Drop rows with any NaN values\n",
    "df_no_missing_rows = df.dropna(axis=0, how='any')\n",
    "print(\"DataFrame after removing rows with any NaN:\")\n",
    "print(df_no_missing_rows)\n"
   ]
  }
 ],
 "metadata": {
  "kernelspec": {
   "display_name": "Python 3",
   "language": "python",
   "name": "python3"
  },
  "language_info": {
   "codemirror_mode": {
    "name": "ipython",
    "version": 3
   },
   "file_extension": ".py",
   "mimetype": "text/x-python",
   "name": "python",
   "nbconvert_exporter": "python",
   "pygments_lexer": "ipython3",
   "version": "3.10.12"
  },
  "papermill": {
   "default_parameters": {},
   "duration": 4.703028,
   "end_time": "2023-10-24T14:49:01.180265",
   "environment_variables": {},
   "exception": null,
   "input_path": "__notebook__.ipynb",
   "output_path": "__notebook__.ipynb",
   "parameters": {},
   "start_time": "2023-10-24T14:48:56.477237",
   "version": "2.4.0"
  }
 },
 "nbformat": 4,
 "nbformat_minor": 5
}
