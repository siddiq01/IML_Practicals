{
 "cells": [
  {
   "cell_type": "markdown",
   "id": "d435b19c",
   "metadata": {
    "papermill": {
     "duration": 0.003234,
     "end_time": "2023-10-24T14:28:17.450915",
     "exception": false,
     "start_time": "2023-10-24T14:28:17.447681",
     "status": "completed"
    },
    "tags": []
   },
   "source": [
    "# Practical-10"
   ]
  },
  {
   "cell_type": "markdown",
   "id": "82a0dab1",
   "metadata": {
    "papermill": {
     "duration": 0.001755,
     "end_time": "2023-10-24T14:28:17.455451",
     "exception": false,
     "start_time": "2023-10-24T14:28:17.453696",
     "status": "completed"
    },
    "tags": []
   },
   "source": [
    "**Write a Pandas program to implement following operation**"
   ]
  },
  {
   "cell_type": "markdown",
   "id": "17ab2685",
   "metadata": {
    "papermill": {
     "duration": 0.001672,
     "end_time": "2023-10-24T14:28:17.461595",
     "exception": false,
     "start_time": "2023-10-24T14:28:17.459923",
     "status": "completed"
    },
    "tags": []
   },
   "source": [
    "* to find and drop the missing values from the given dataset"
   ]
  },
  {
   "cell_type": "code",
   "execution_count": 1,
   "id": "0257d729",
   "metadata": {
    "_cell_guid": "b1076dfc-b9ad-4769-8c92-a6c4dae69d19",
    "_uuid": "8f2839f25d086af736a60e9eeb907d3b93b6e0e5",
    "execution": {
     "iopub.execute_input": "2023-10-24T14:28:17.468704Z",
     "iopub.status.busy": "2023-10-24T14:28:17.468329Z",
     "iopub.status.idle": "2023-10-24T14:28:17.818777Z",
     "shell.execute_reply": "2023-10-24T14:28:17.817082Z"
    },
    "papermill": {
     "duration": 0.356819,
     "end_time": "2023-10-24T14:28:17.820830",
     "exception": false,
     "start_time": "2023-10-24T14:28:17.464011",
     "status": "completed"
    },
    "tags": []
   },
   "outputs": [
    {
     "name": "stdout",
     "output_type": "stream",
     "text": [
      "     A    B  C\n",
      "0  1.0  NaN  1\n",
      "1  2.0  2.0  2\n",
      "2  3.0  3.0  3\n",
      "3  NaN  4.0  4\n",
      "4  5.0  5.0  5\n",
      "\n",
      "       A      B      C\n",
      "0  False   True  False\n",
      "1  False  False  False\n",
      "2  False  False  False\n",
      "3   True  False  False\n",
      "4  False  False  False\n",
      "\n",
      "     A    B  C\n",
      "1  2.0  2.0  2\n",
      "2  3.0  3.0  3\n",
      "4  5.0  5.0  5\n",
      "\n"
     ]
    }
   ],
   "source": [
    "# Siddiq Badlani\n",
    "# 216270307034\n",
    "\n",
    "# import numpy as np\n",
    "# import pandas as pd\n",
    "\n",
    "# dict = {\n",
    "#     \"Name\": [\"sami\", np.nan],\n",
    "#     \"Roll\": [1,np.nan]\n",
    "# }\n",
    "# df = pd.DataFrame(dict)\n",
    "# print(df)\n",
    "# print()\n",
    "\n",
    "# col = ['Name', 'Roll']\n",
    "# missing_data = df[col].isna().any()\n",
    "\n",
    "# df.dropna()\n",
    "\n",
    "# if missing_data.any():\n",
    "#     print(\"There are missing values\")\n",
    "#     print(missing_data)\n",
    "# else:\n",
    "#     print(\"There are no missing values\")\n",
    "\n",
    "import pandas as pd\n",
    "\n",
    "# Sample DataFrame with missing values\n",
    "data = {\n",
    "    'A': [1, 2, 3, None, 5],\n",
    "    'B': [None, 2, 3, 4, 5],\n",
    "    'C': [1, 2, 3, 4, 5]\n",
    "}\n",
    "\n",
    "df = pd.DataFrame(data)\n",
    "print(df)\n",
    "print()\n",
    "\n",
    "# Identify missing values\n",
    "missing_data = df.isnull()\n",
    "print(missing_data)\n",
    "print()\n",
    "\n",
    "# Drop rows with missing values\n",
    "df_cleaned = df.dropna(axis=0)\n",
    "print(df_cleaned)\n",
    "print()\n",
    "\n",
    "# The df_cleaned DataFrame will have rows with missing values removed"
   ]
  },
  {
   "cell_type": "markdown",
   "id": "278b6f50",
   "metadata": {
    "papermill": {
     "duration": 0.001693,
     "end_time": "2023-10-24T14:28:17.824571",
     "exception": false,
     "start_time": "2023-10-24T14:28:17.822878",
     "status": "completed"
    },
    "tags": []
   },
   "source": [
    "* to remove the duplicates from the given dataset"
   ]
  },
  {
   "cell_type": "code",
   "execution_count": 2,
   "id": "1e0651ad",
   "metadata": {
    "execution": {
     "iopub.execute_input": "2023-10-24T14:28:17.829951Z",
     "iopub.status.busy": "2023-10-24T14:28:17.829490Z",
     "iopub.status.idle": "2023-10-24T14:28:17.850760Z",
     "shell.execute_reply": "2023-10-24T14:28:17.849585Z"
    },
    "papermill": {
     "duration": 0.026963,
     "end_time": "2023-10-24T14:28:17.853350",
     "exception": false,
     "start_time": "2023-10-24T14:28:17.826387",
     "status": "completed"
    },
    "tags": []
   },
   "outputs": [
    {
     "name": "stdout",
     "output_type": "stream",
     "text": [
      "   A       B   C\n",
      "0  1   apple  10\n",
      "1  2  banana  20\n",
      "2  2  banana  20\n",
      "3  3  cherry  30\n",
      "4  4  cherry  40\n",
      "5  4  cherry  40\n",
      "\n",
      "   A       B   C\n",
      "0  1   apple  10\n",
      "1  2  banana  20\n",
      "3  3  cherry  30\n",
      "4  4  cherry  40\n"
     ]
    }
   ],
   "source": [
    "import pandas as pd\n",
    "\n",
    "# Sample DataFrame with duplicate rows\n",
    "data = {\n",
    "    'A': [1, 2, 2, 3, 4, 4],\n",
    "    'B': ['apple', 'banana', 'banana', 'cherry', 'cherry', 'cherry'],\n",
    "    'C': [10, 20, 20, 30, 40, 40]\n",
    "}\n",
    "\n",
    "df = pd.DataFrame(data)\n",
    "print(df)\n",
    "print()\n",
    "\n",
    "# Remove duplicate rows\n",
    "df_no_duplicates = df.drop_duplicates()\n",
    "print(df_no_duplicates)\n",
    "\n",
    "# df_no_duplicates now contains the DataFrame with duplicates removed\n"
   ]
  }
 ],
 "metadata": {
  "kernelspec": {
   "display_name": "Python 3",
   "language": "python",
   "name": "python3"
  },
  "language_info": {
   "codemirror_mode": {
    "name": "ipython",
    "version": 3
   },
   "file_extension": ".py",
   "mimetype": "text/x-python",
   "name": "python",
   "nbconvert_exporter": "python",
   "pygments_lexer": "ipython3",
   "version": "3.10.12"
  },
  "papermill": {
   "default_parameters": {},
   "duration": 3.869809,
   "end_time": "2023-10-24T14:28:18.376849",
   "environment_variables": {},
   "exception": null,
   "input_path": "__notebook__.ipynb",
   "output_path": "__notebook__.ipynb",
   "parameters": {},
   "start_time": "2023-10-24T14:28:14.507040",
   "version": "2.4.0"
  }
 },
 "nbformat": 4,
 "nbformat_minor": 5
}
