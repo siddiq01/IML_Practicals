{
 "cells": [
  {
   "cell_type": "markdown",
   "id": "1ec8ef80",
   "metadata": {
    "papermill": {
     "duration": 0.003053,
     "end_time": "2023-10-05T09:52:20.160399",
     "exception": false,
     "start_time": "2023-10-05T09:52:20.157346",
     "status": "completed"
    },
    "tags": []
   },
   "source": [
    "# Practical-6"
   ]
  },
  {
   "cell_type": "markdown",
   "id": "95c8aeaf",
   "metadata": {
    "papermill": {
     "duration": 0.005896,
     "end_time": "2023-10-05T09:52:20.170253",
     "exception": false,
     "start_time": "2023-10-05T09:52:20.164357",
     "status": "completed"
    },
    "tags": []
   },
   "source": [
    "**Write a Pandas program to implement following operation**"
   ]
  },
  {
   "cell_type": "markdown",
   "id": "485c22f3",
   "metadata": {
    "papermill": {
     "duration": 0.002533,
     "end_time": "2023-10-05T09:52:20.175532",
     "exception": false,
     "start_time": "2023-10-05T09:52:20.172999",
     "status": "completed"
    },
    "tags": []
   },
   "source": [
    "* to convert a NumPy array to a Pandas series"
   ]
  },
  {
   "cell_type": "code",
   "execution_count": 1,
   "id": "15150522",
   "metadata": {
    "_cell_guid": "b1076dfc-b9ad-4769-8c92-a6c4dae69d19",
    "_uuid": "8f2839f25d086af736a60e9eeb907d3b93b6e0e5",
    "execution": {
     "iopub.execute_input": "2023-10-05T09:52:20.185232Z",
     "iopub.status.busy": "2023-10-05T09:52:20.184477Z",
     "iopub.status.idle": "2023-10-05T09:52:20.597287Z",
     "shell.execute_reply": "2023-10-05T09:52:20.595941Z"
    },
    "papermill": {
     "duration": 0.421479,
     "end_time": "2023-10-05T09:52:20.600570",
     "exception": false,
     "start_time": "2023-10-05T09:52:20.179091",
     "status": "completed"
    },
    "tags": []
   },
   "outputs": [
    {
     "name": "stdout",
     "output_type": "stream",
     "text": [
      "Numpy array: [1 2 3 4 5]\n",
      "Panda series:\n",
      " 0    1\n",
      "1    2\n",
      "2    3\n",
      "3    4\n",
      "4    5\n",
      "dtype: int64\n"
     ]
    }
   ],
   "source": [
    "# Badlani Siddiq\n",
    "# 216270307034\n",
    "\n",
    "import numpy as np\n",
    "import pandas as pd\n",
    "\n",
    "arr = np.array([1, 2, 3, 4, 5])\n",
    "ser = pd.Series(arr)\n",
    "print(\"Numpy array:\", arr)\n",
    "print(\"Panda series:\\n\", ser)"
   ]
  },
  {
   "cell_type": "markdown",
   "id": "fb2db6d5",
   "metadata": {
    "papermill": {
     "duration": 0.002521,
     "end_time": "2023-10-05T09:52:20.606218",
     "exception": false,
     "start_time": "2023-10-05T09:52:20.603697",
     "status": "completed"
    },
    "tags": []
   },
   "source": [
    "* to convert the first column of a DataFrame as a Series"
   ]
  },
  {
   "cell_type": "code",
   "execution_count": 2,
   "id": "1cb6b013",
   "metadata": {
    "execution": {
     "iopub.execute_input": "2023-10-05T09:52:20.613760Z",
     "iopub.status.busy": "2023-10-05T09:52:20.613229Z",
     "iopub.status.idle": "2023-10-05T09:52:20.632154Z",
     "shell.execute_reply": "2023-10-05T09:52:20.630423Z"
    },
    "papermill": {
     "duration": 0.025881,
     "end_time": "2023-10-05T09:52:20.634769",
     "exception": false,
     "start_time": "2023-10-05T09:52:20.608888",
     "status": "completed"
    },
    "tags": []
   },
   "outputs": [
    {
     "name": "stdout",
     "output_type": "stream",
     "text": [
      "      Name  Enroll no.       City\n",
      "0   Siddiq          34  Porbandar\n",
      "1     Sami           2     Amreli\n",
      "2  Mujtaba           3    Ranavav\n",
      "\n",
      "Converting the first column of a DataFrame to a series:\n",
      "0     Siddiq\n",
      "1       Sami\n",
      "2    Mujtaba\n",
      "Name: Name, dtype: object\n"
     ]
    }
   ],
   "source": [
    "import numpy as np\n",
    "import pandas as pd\n",
    "\n",
    "dict = {\n",
    "    \"Name\": [\"Siddiq\", \"Sami\", \"Mujtaba\"],\n",
    "    \"Enroll no.\": [34, 2, 3],\n",
    "    \"City\": [\"Porbandar\", \"Amreli\", \"Ranavav\"]\n",
    "}\n",
    "df = pd.DataFrame(dict)\n",
    "print(df)\n",
    "print()\n",
    "col = df.iloc[:, 0]\n",
    "print(\"Converting the first column of a DataFrame to a series:\")\n",
    "print(col)"
   ]
  },
  {
   "cell_type": "markdown",
   "id": "2917b07b",
   "metadata": {
    "papermill": {
     "duration": 0.002517,
     "end_time": "2023-10-05T09:52:20.640141",
     "exception": false,
     "start_time": "2023-10-05T09:52:20.637624",
     "status": "completed"
    },
    "tags": []
   },
   "source": [
    "* to create the mean and standard deviation of the data of a given\n",
    "Series"
   ]
  },
  {
   "cell_type": "code",
   "execution_count": 3,
   "id": "7b6987ef",
   "metadata": {
    "execution": {
     "iopub.execute_input": "2023-10-05T09:52:20.647238Z",
     "iopub.status.busy": "2023-10-05T09:52:20.646877Z",
     "iopub.status.idle": "2023-10-05T09:52:20.657400Z",
     "shell.execute_reply": "2023-10-05T09:52:20.655509Z"
    },
    "papermill": {
     "duration": 0.016922,
     "end_time": "2023-10-05T09:52:20.659740",
     "exception": false,
     "start_time": "2023-10-05T09:52:20.642818",
     "status": "completed"
    },
    "tags": []
   },
   "outputs": [
    {
     "name": "stdout",
     "output_type": "stream",
     "text": [
      "5.5\n",
      "3.0276503540974917\n"
     ]
    }
   ],
   "source": [
    "import pandas as pd\n",
    "\n",
    "ser = pd.Series(data = [1,2,3,4,5,6,7,8,9,10])\n",
    "# sermean = ser.mean\n",
    "print(ser.mean())\n",
    "print(ser.std())"
   ]
  },
  {
   "cell_type": "markdown",
   "id": "434838ad",
   "metadata": {
    "papermill": {
     "duration": 0.002537,
     "end_time": "2023-10-05T09:52:20.665260",
     "exception": false,
     "start_time": "2023-10-05T09:52:20.662723",
     "status": "completed"
    },
    "tags": []
   },
   "source": [
    "* to sort a given Series\n"
   ]
  },
  {
   "cell_type": "code",
   "execution_count": 4,
   "id": "8a24f797",
   "metadata": {
    "execution": {
     "iopub.execute_input": "2023-10-05T09:52:20.673226Z",
     "iopub.status.busy": "2023-10-05T09:52:20.672031Z",
     "iopub.status.idle": "2023-10-05T09:52:20.685205Z",
     "shell.execute_reply": "2023-10-05T09:52:20.683844Z"
    },
    "papermill": {
     "duration": 0.020698,
     "end_time": "2023-10-05T09:52:20.688700",
     "exception": false,
     "start_time": "2023-10-05T09:52:20.668002",
     "status": "completed"
    },
    "tags": []
   },
   "outputs": [
    {
     "name": "stdout",
     "output_type": "stream",
     "text": [
      "Original:\n",
      "0    34\n",
      "1    45\n",
      "2    56\n",
      "3    23\n",
      "4    78\n",
      "5    64\n",
      "6     9\n",
      "7     1\n",
      "dtype: int64\n",
      "sorted:\n",
      "7     1\n",
      "6     9\n",
      "3    23\n",
      "0    34\n",
      "1    45\n",
      "2    56\n",
      "5    64\n",
      "4    78\n",
      "dtype: int64\n"
     ]
    }
   ],
   "source": [
    "import pandas as pd\n",
    "\n",
    "ser = pd.Series([34,45,56,23,78,64,9,1])\n",
    "print(\"Original:\")\n",
    "print(ser)\n",
    "\n",
    "sorted_ser = ser.sort_values()\n",
    "print(\"sorted:\")\n",
    "print(sorted_ser)\n",
    "\n",
    "# exp = pd.Series(ser).sort_values()\n",
    "# print(exp)"
   ]
  }
 ],
 "metadata": {
  "kernelspec": {
   "display_name": "Python 3",
   "language": "python",
   "name": "python3"
  },
  "language_info": {
   "codemirror_mode": {
    "name": "ipython",
    "version": 3
   },
   "file_extension": ".py",
   "mimetype": "text/x-python",
   "name": "python",
   "nbconvert_exporter": "python",
   "pygments_lexer": "ipython3",
   "version": "3.10.12"
  },
  "papermill": {
   "default_parameters": {},
   "duration": 4.718888,
   "end_time": "2023-10-05T09:52:21.215355",
   "environment_variables": {},
   "exception": null,
   "input_path": "__notebook__.ipynb",
   "output_path": "__notebook__.ipynb",
   "parameters": {},
   "start_time": "2023-10-05T09:52:16.496467",
   "version": "2.4.0"
  }
 },
 "nbformat": 4,
 "nbformat_minor": 5
}
