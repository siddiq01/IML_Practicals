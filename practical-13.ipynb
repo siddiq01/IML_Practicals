{
 "cells": [
  {
   "cell_type": "markdown",
   "id": "37ae16f2",
   "metadata": {
    "papermill": {
     "duration": 0.003334,
     "end_time": "2023-11-06T03:38:24.637459",
     "exception": false,
     "start_time": "2023-11-06T03:38:24.634125",
     "status": "completed"
    },
    "tags": []
   },
   "source": [
    "# Practical-13"
   ]
  },
  {
   "cell_type": "markdown",
   "id": "fdd2e303",
   "metadata": {
    "papermill": {
     "duration": 0.0025,
     "end_time": "2023-11-06T03:38:24.643503",
     "exception": false,
     "start_time": "2023-11-06T03:38:24.641003",
     "status": "completed"
    },
    "tags": []
   },
   "source": [
    "**Write a Python program to implement K-Nearest Neighbour supervised\n",
    "machine learning algorithm for given dataset.**"
   ]
  },
  {
   "cell_type": "code",
   "execution_count": 1,
   "id": "575e6023",
   "metadata": {
    "_cell_guid": "b1076dfc-b9ad-4769-8c92-a6c4dae69d19",
    "_uuid": "8f2839f25d086af736a60e9eeb907d3b93b6e0e5",
    "execution": {
     "iopub.execute_input": "2023-11-06T03:38:24.653098Z",
     "iopub.status.busy": "2023-11-06T03:38:24.652536Z",
     "iopub.status.idle": "2023-11-06T03:38:27.421669Z",
     "shell.execute_reply": "2023-11-06T03:38:27.420377Z"
    },
    "papermill": {
     "duration": 2.776222,
     "end_time": "2023-11-06T03:38:27.424457",
     "exception": false,
     "start_time": "2023-11-06T03:38:24.648235",
     "status": "completed"
    },
    "tags": []
   },
   "outputs": [
    {
     "data": {
      "text/html": [
       "<div>\n",
       "<style scoped>\n",
       "    .dataframe tbody tr th:only-of-type {\n",
       "        vertical-align: middle;\n",
       "    }\n",
       "\n",
       "    .dataframe tbody tr th {\n",
       "        vertical-align: top;\n",
       "    }\n",
       "\n",
       "    .dataframe thead th {\n",
       "        text-align: right;\n",
       "    }\n",
       "</style>\n",
       "<table border=\"1\" class=\"dataframe\">\n",
       "  <thead>\n",
       "    <tr style=\"text-align: right;\">\n",
       "      <th></th>\n",
       "      <th>age</th>\n",
       "      <th>anaemia</th>\n",
       "      <th>creatinine_phosphokinase</th>\n",
       "      <th>diabetes</th>\n",
       "      <th>ejection_fraction</th>\n",
       "      <th>high_blood_pressure</th>\n",
       "      <th>platelets</th>\n",
       "      <th>serum_creatinine</th>\n",
       "      <th>serum_sodium</th>\n",
       "      <th>sex</th>\n",
       "      <th>smoking</th>\n",
       "      <th>time</th>\n",
       "      <th>DEATH_EVENT</th>\n",
       "    </tr>\n",
       "  </thead>\n",
       "  <tbody>\n",
       "    <tr>\n",
       "      <th>0</th>\n",
       "      <td>75.0</td>\n",
       "      <td>0</td>\n",
       "      <td>582</td>\n",
       "      <td>0</td>\n",
       "      <td>20</td>\n",
       "      <td>1</td>\n",
       "      <td>265000.00</td>\n",
       "      <td>1.9</td>\n",
       "      <td>130</td>\n",
       "      <td>1</td>\n",
       "      <td>0</td>\n",
       "      <td>4</td>\n",
       "      <td>1</td>\n",
       "    </tr>\n",
       "    <tr>\n",
       "      <th>1</th>\n",
       "      <td>55.0</td>\n",
       "      <td>0</td>\n",
       "      <td>7861</td>\n",
       "      <td>0</td>\n",
       "      <td>38</td>\n",
       "      <td>0</td>\n",
       "      <td>263358.03</td>\n",
       "      <td>1.1</td>\n",
       "      <td>136</td>\n",
       "      <td>1</td>\n",
       "      <td>0</td>\n",
       "      <td>6</td>\n",
       "      <td>1</td>\n",
       "    </tr>\n",
       "    <tr>\n",
       "      <th>2</th>\n",
       "      <td>65.0</td>\n",
       "      <td>0</td>\n",
       "      <td>146</td>\n",
       "      <td>0</td>\n",
       "      <td>20</td>\n",
       "      <td>0</td>\n",
       "      <td>162000.00</td>\n",
       "      <td>1.3</td>\n",
       "      <td>129</td>\n",
       "      <td>1</td>\n",
       "      <td>1</td>\n",
       "      <td>7</td>\n",
       "      <td>1</td>\n",
       "    </tr>\n",
       "  </tbody>\n",
       "</table>\n",
       "</div>"
      ],
      "text/plain": [
       "    age  anaemia  creatinine_phosphokinase  diabetes  ejection_fraction  \\\n",
       "0  75.0        0                       582         0                 20   \n",
       "1  55.0        0                      7861         0                 38   \n",
       "2  65.0        0                       146         0                 20   \n",
       "\n",
       "   high_blood_pressure  platelets  serum_creatinine  serum_sodium  sex  \\\n",
       "0                    1  265000.00               1.9           130    1   \n",
       "1                    0  263358.03               1.1           136    1   \n",
       "2                    0  162000.00               1.3           129    1   \n",
       "\n",
       "   smoking  time  DEATH_EVENT  \n",
       "0        0     4            1  \n",
       "1        0     6            1  \n",
       "2        1     7            1  "
      ]
     },
     "execution_count": 1,
     "metadata": {},
     "output_type": "execute_result"
    }
   ],
   "source": [
    "# Siddiq Badlani\n",
    "# 216270307034\n",
    "\n",
    "import numpy as np\n",
    "import pandas as pd\n",
    "from sklearn.model_selection import train_test_split\n",
    "from sklearn.neighbors import KNeighborsClassifier\n",
    "from sklearn.metrics import accuracy_score\n",
    "df = pd.read_csv('/kaggle/input/heart-failure-clinical-data/heart_failure_clinical_records_dataset.csv')\n",
    "df.head(3)\n"
   ]
  },
  {
   "cell_type": "markdown",
   "id": "452f6125",
   "metadata": {
    "papermill": {
     "duration": 0.002605,
     "end_time": "2023-11-06T03:38:27.430038",
     "exception": false,
     "start_time": "2023-11-06T03:38:27.427433",
     "status": "completed"
    },
    "tags": []
   },
   "source": [
    "**Splitting dataset into input and target feature**\n",
    "\n",
    "**Training model using KNN**"
   ]
  },
  {
   "cell_type": "code",
   "execution_count": 2,
   "id": "2d2f6c1e",
   "metadata": {
    "execution": {
     "iopub.execute_input": "2023-11-06T03:38:27.438130Z",
     "iopub.status.busy": "2023-11-06T03:38:27.437731Z",
     "iopub.status.idle": "2023-11-06T03:38:27.472774Z",
     "shell.execute_reply": "2023-11-06T03:38:27.471252Z"
    },
    "papermill": {
     "duration": 0.042651,
     "end_time": "2023-11-06T03:38:27.475450",
     "exception": false,
     "start_time": "2023-11-06T03:38:27.432799",
     "status": "completed"
    },
    "tags": []
   },
   "outputs": [
    {
     "name": "stdout",
     "output_type": "stream",
     "text": [
      "Accuracy Score :  78.88888888888889\n"
     ]
    }
   ],
   "source": [
    "X = df[['ejection_fraction','serum_creatinine','time','serum_sodium','age']]\n",
    "Y = df['DEATH_EVENT']\n",
    "\n",
    "X_train, X_test, Y_train, Y_test = train_test_split(X,Y, test_size=0.30)\n",
    "\n",
    "knn = KNeighborsClassifier(n_neighbors=5)\n",
    "knn.fit(X_train,Y_train)\n",
    "pred = knn.predict(X_test)\n",
    "\n",
    "a=accuracy_score(Y_test, pred)\n",
    "print(\"Accuracy Score : \" ,a*100)"
   ]
  }
 ],
 "metadata": {
  "kernelspec": {
   "display_name": "Python 3",
   "language": "python",
   "name": "python3"
  },
  "language_info": {
   "codemirror_mode": {
    "name": "ipython",
    "version": 3
   },
   "file_extension": ".py",
   "mimetype": "text/x-python",
   "name": "python",
   "nbconvert_exporter": "python",
   "pygments_lexer": "ipython3",
   "version": "3.10.12"
  },
  "papermill": {
   "default_parameters": {},
   "duration": 8.576465,
   "end_time": "2023-11-06T03:38:28.100004",
   "environment_variables": {},
   "exception": null,
   "input_path": "__notebook__.ipynb",
   "output_path": "__notebook__.ipynb",
   "parameters": {},
   "start_time": "2023-11-06T03:38:19.523539",
   "version": "2.4.0"
  }
 },
 "nbformat": 4,
 "nbformat_minor": 5
}
