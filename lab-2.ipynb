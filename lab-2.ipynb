{
 "cells": [
  {
   "cell_type": "code",
   "execution_count": 1,
   "id": "97932db0",
   "metadata": {
    "_cell_guid": "b1076dfc-b9ad-4769-8c92-a6c4dae69d19",
    "_uuid": "8f2839f25d086af736a60e9eeb907d3b93b6e0e5",
    "execution": {
     "iopub.execute_input": "2023-09-01T12:12:41.875689Z",
     "iopub.status.busy": "2023-09-01T12:12:41.875322Z",
     "iopub.status.idle": "2023-09-01T12:12:41.887869Z",
     "shell.execute_reply": "2023-09-01T12:12:41.886875Z"
    },
    "papermill": {
     "duration": 0.020576,
     "end_time": "2023-09-01T12:12:41.889924",
     "exception": false,
     "start_time": "2023-09-01T12:12:41.869348",
     "status": "completed"
    },
    "tags": []
   },
   "outputs": [
    {
     "name": "stdout",
     "output_type": "stream",
     "text": [
      "a: [1 2 3]\n"
     ]
    }
   ],
   "source": [
    "# 216270307034\n",
    "# Siddiq Badlani\n",
    "\n",
    "import numpy as np\n",
    "\n",
    "a = np.array([1,2,3])\n",
    "print(\"a:\", a)"
   ]
  },
  {
   "cell_type": "code",
   "execution_count": 2,
   "id": "87585a80",
   "metadata": {
    "execution": {
     "iopub.execute_input": "2023-09-01T12:12:41.899310Z",
     "iopub.status.busy": "2023-09-01T12:12:41.898290Z",
     "iopub.status.idle": "2023-09-01T12:12:41.904002Z",
     "shell.execute_reply": "2023-09-01T12:12:41.903124Z"
    },
    "papermill": {
     "duration": 0.012425,
     "end_time": "2023-09-01T12:12:41.906239",
     "exception": false,
     "start_time": "2023-09-01T12:12:41.893814",
     "status": "completed"
    },
    "tags": []
   },
   "outputs": [
    {
     "name": "stdout",
     "output_type": "stream",
     "text": [
      "b:\n",
      " [[ 2  3  4]\n",
      " [ 5  6  7]\n",
      " [ 8  9 10]]\n"
     ]
    }
   ],
   "source": [
    "# b = np.array([[1,2,3],[4,5,6],[7,8,9]])\n",
    "b = np.array([[],[],[]])\n",
    "b = np.arange(2, 11).reshape(3, 3)\n",
    "print(\"b:\\n\", b)"
   ]
  },
  {
   "cell_type": "code",
   "execution_count": 3,
   "id": "529e1d86",
   "metadata": {
    "execution": {
     "iopub.execute_input": "2023-09-01T12:12:41.914575Z",
     "iopub.status.busy": "2023-09-01T12:12:41.914255Z",
     "iopub.status.idle": "2023-09-01T12:12:41.919535Z",
     "shell.execute_reply": "2023-09-01T12:12:41.918616Z"
    },
    "papermill": {
     "duration": 0.012073,
     "end_time": "2023-09-01T12:12:41.921776",
     "exception": false,
     "start_time": "2023-09-01T12:12:41.909703",
     "status": "completed"
    },
    "tags": []
   },
   "outputs": [
    {
     "name": "stdout",
     "output_type": "stream",
     "text": [
      "a:\n",
      " [1 2 3]\n",
      "b:\n",
      " [[ 2  3  4]\n",
      " [ 5  6  7]\n",
      " [ 8  9 10]]\n"
     ]
    }
   ],
   "source": [
    "# a = np.append(a,[6,7,8])\n",
    "print(\"a:\\n\", a)\n",
    "\n",
    "# b = np.append(b,[10,11,12])\n",
    "print(\"b:\\n\", b)\n",
    "\n",
    "# a= np.delete(a,[4])\n",
    "# b= np.delete(b,[10,11,12])"
   ]
  },
  {
   "cell_type": "code",
   "execution_count": 4,
   "id": "a7d2b667",
   "metadata": {
    "execution": {
     "iopub.execute_input": "2023-09-01T12:12:41.931011Z",
     "iopub.status.busy": "2023-09-01T12:12:41.930417Z",
     "iopub.status.idle": "2023-09-01T12:12:41.936057Z",
     "shell.execute_reply": "2023-09-01T12:12:41.934853Z"
    },
    "papermill": {
     "duration": 0.012711,
     "end_time": "2023-09-01T12:12:41.938032",
     "exception": false,
     "start_time": "2023-09-01T12:12:41.925321",
     "status": "completed"
    },
    "tags": []
   },
   "outputs": [
    {
     "name": "stdout",
     "output_type": "stream",
     "text": [
      "2*3:\n",
      "\n",
      " [[1 2]\n",
      " [3 4]\n",
      " [5 6]]\n",
      "3*2:\n",
      "\n",
      " [[1 2 3]\n",
      " [4 5 6]]\n"
     ]
    }
   ],
   "source": [
    "c = np.array([[1,2],[3,4],[5,6]])\n",
    "print(\"2*3:\\n\\n\", c)\n",
    "\n",
    "c = c.reshape(2, 3)\n",
    "print(\"3*2:\\n\\n\", c)"
   ]
  },
  {
   "cell_type": "code",
   "execution_count": null,
   "id": "93c7e076",
   "metadata": {
    "papermill": {
     "duration": 0.003161,
     "end_time": "2023-09-01T12:12:41.944696",
     "exception": false,
     "start_time": "2023-09-01T12:12:41.941535",
     "status": "completed"
    },
    "tags": []
   },
   "outputs": [],
   "source": []
  }
 ],
 "kernelspec": {
  "display_name": "Python 3",
  "language": "python",
  "name": "python3"
 },
 "language_info": {
  "codemirror_mode": {
   "name": "ipython",
   "version": 3
  },
  "file_extension": ".py",
  "mimetype": "text/x-python",
  "name": "python",
  "nbconvert_exporter": "python",
  "pygments_lexer": "ipython3",
  "version": "3.6.4"
 },
 "metadata": {
  "kernelspec": {
   "display_name": "Python 3",
   "language": "python",
   "name": "python3"
  },
  "language_info": {
   "codemirror_mode": {
    "name": "ipython",
    "version": 3
   },
   "file_extension": ".py",
   "mimetype": "text/x-python",
   "name": "python",
   "nbconvert_exporter": "python",
   "pygments_lexer": "ipython3",
   "version": "3.10.12"
  },
  "papermill": {
   "default_parameters": {},
   "duration": 3.721106,
   "end_time": "2023-09-01T12:12:42.267149",
   "environment_variables": {},
   "exception": null,
   "input_path": "__notebook__.ipynb",
   "output_path": "__notebook__.ipynb",
   "parameters": {},
   "start_time": "2023-09-01T12:12:38.546043",
   "version": "2.4.0"
  }
 },
 "nbformat": 4,
 "nbformat_minor": 5
}
