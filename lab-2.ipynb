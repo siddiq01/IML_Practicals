{
 "cells": [
  {
   "cell_type": "code",
   "execution_count": 1,
   "id": "99f62bbc",
   "metadata": {
    "_cell_guid": "b1076dfc-b9ad-4769-8c92-a6c4dae69d19",
    "_uuid": "8f2839f25d086af736a60e9eeb907d3b93b6e0e5",
    "execution": {
     "iopub.execute_input": "2023-09-01T11:57:51.849157Z",
     "iopub.status.busy": "2023-09-01T11:57:51.847685Z",
     "iopub.status.idle": "2023-09-01T11:57:51.865037Z",
     "shell.execute_reply": "2023-09-01T11:57:51.864059Z"
    },
    "papermill": {
     "duration": 0.028563,
     "end_time": "2023-09-01T11:57:51.868199",
     "exception": false,
     "start_time": "2023-09-01T11:57:51.839636",
     "status": "completed"
    },
    "tags": []
   },
   "outputs": [
    {
     "name": "stdout",
     "output_type": "stream",
     "text": [
      "a: [1 2 3]\n"
     ]
    }
   ],
   "source": [
    "# 216270307034\n",
    "# Siddiq Badlani\n",
    "\n",
    "import numpy as np\n",
    "\n",
    "a = np.array([1,2,3])\n",
    "print(\"a:\", a)"
   ]
  },
  {
   "cell_type": "code",
   "execution_count": 2,
   "id": "b474483d",
   "metadata": {
    "execution": {
     "iopub.execute_input": "2023-09-01T11:57:51.881437Z",
     "iopub.status.busy": "2023-09-01T11:57:51.880849Z",
     "iopub.status.idle": "2023-09-01T11:57:51.889168Z",
     "shell.execute_reply": "2023-09-01T11:57:51.887536Z"
    },
    "papermill": {
     "duration": 0.018917,
     "end_time": "2023-09-01T11:57:51.892643",
     "exception": false,
     "start_time": "2023-09-01T11:57:51.873726",
     "status": "completed"
    },
    "tags": []
   },
   "outputs": [
    {
     "name": "stdout",
     "output_type": "stream",
     "text": [
      "b:\n",
      " [[1 2 3]\n",
      " [4 5 6]\n",
      " [7 8 9]]\n"
     ]
    }
   ],
   "source": [
    "b = np.array([[1,2,3],[4,5,6],[7,8,9]])\n",
    "print(\"b:\\n\", b)"
   ]
  },
  {
   "cell_type": "code",
   "execution_count": 3,
   "id": "34c5264e",
   "metadata": {
    "execution": {
     "iopub.execute_input": "2023-09-01T11:57:51.904597Z",
     "iopub.status.busy": "2023-09-01T11:57:51.903982Z",
     "iopub.status.idle": "2023-09-01T11:57:51.911514Z",
     "shell.execute_reply": "2023-09-01T11:57:51.910006Z"
    },
    "papermill": {
     "duration": 0.017169,
     "end_time": "2023-09-01T11:57:51.914735",
     "exception": false,
     "start_time": "2023-09-01T11:57:51.897566",
     "status": "completed"
    },
    "tags": []
   },
   "outputs": [
    {
     "name": "stdout",
     "output_type": "stream",
     "text": [
      "a:\n",
      " [1 2 3]\n",
      "b:\n",
      " [[1 2 3]\n",
      " [4 5 6]\n",
      " [7 8 9]]\n"
     ]
    }
   ],
   "source": [
    "# a = np.append(a,[6,7,8])\n",
    "print(\"a:\\n\", a)\n",
    "\n",
    "# b = np.append(b,[10,11,12])\n",
    "print(\"b:\\n\", b)\n",
    "\n",
    "# a= np.delete(a,[4])\n",
    "# b= np.delete(b,[10,11,12])"
   ]
  },
  {
   "cell_type": "code",
   "execution_count": 4,
   "id": "7ca9b8e0",
   "metadata": {
    "execution": {
     "iopub.execute_input": "2023-09-01T11:57:51.927298Z",
     "iopub.status.busy": "2023-09-01T11:57:51.926816Z",
     "iopub.status.idle": "2023-09-01T11:57:51.933843Z",
     "shell.execute_reply": "2023-09-01T11:57:51.932896Z"
    },
    "papermill": {
     "duration": 0.016869,
     "end_time": "2023-09-01T11:57:51.936703",
     "exception": false,
     "start_time": "2023-09-01T11:57:51.919834",
     "status": "completed"
    },
    "tags": []
   },
   "outputs": [
    {
     "name": "stdout",
     "output_type": "stream",
     "text": [
      "2*3:\n",
      "\n",
      " [[1 2]\n",
      " [3 4]\n",
      " [5 6]]\n",
      "3*2:\n",
      "\n",
      " [[1 2 3]\n",
      " [4 5 6]]\n"
     ]
    }
   ],
   "source": [
    "c = np.array([[1,2],[3,4],[5,6]])\n",
    "print(\"2*3:\\n\\n\", c)\n",
    "\n",
    "c = c.reshape(2, 3)\n",
    "print(\"3*2:\\n\\n\", c)"
   ]
  },
  {
   "cell_type": "code",
   "execution_count": null,
   "id": "21e7be47",
   "metadata": {
    "papermill": {
     "duration": 0.00463,
     "end_time": "2023-09-01T11:57:51.946425",
     "exception": false,
     "start_time": "2023-09-01T11:57:51.941795",
     "status": "completed"
    },
    "tags": []
   },
   "outputs": [],
   "source": []
  }
 ],
 "kernelspec": {
  "display_name": "Python 3",
  "language": "python",
  "name": "python3"
 },
 "language_info": {
  "codemirror_mode": {
   "name": "ipython",
   "version": 3
  },
  "file_extension": ".py",
  "mimetype": "text/x-python",
  "name": "python",
  "nbconvert_exporter": "python",
  "pygments_lexer": "ipython3",
  "version": "3.6.4"
 },
 "metadata": {
  "kernelspec": {
   "display_name": "Python 3",
   "language": "python",
   "name": "python3"
  },
  "language_info": {
   "codemirror_mode": {
    "name": "ipython",
    "version": 3
   },
   "file_extension": ".py",
   "mimetype": "text/x-python",
   "name": "python",
   "nbconvert_exporter": "python",
   "pygments_lexer": "ipython3",
   "version": "3.10.12"
  },
  "papermill": {
   "default_parameters": {},
   "duration": 6.820096,
   "end_time": "2023-09-01T11:57:52.474582",
   "environment_variables": {},
   "exception": null,
   "input_path": "__notebook__.ipynb",
   "output_path": "__notebook__.ipynb",
   "parameters": {},
   "start_time": "2023-09-01T11:57:45.654486",
   "version": "2.4.0"
  }
 },
 "nbformat": 4,
 "nbformat_minor": 5
}
